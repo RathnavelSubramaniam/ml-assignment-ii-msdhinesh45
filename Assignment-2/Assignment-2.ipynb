{
 "cells": [
  {
   "cell_type": "markdown",
   "id": "0c0774ce",
   "metadata": {},
   "source": [
    "<h1>Assignment 2 </h1>"
   ]
  },
  {
   "cell_type": "markdown",
   "id": "b94964a6",
   "metadata": {},
   "source": [
    "<p>Import Packages</p>"
   ]
  },
  {
   "cell_type": "code",
   "execution_count": 22,
   "id": "c77bd1f9",
   "metadata": {},
   "outputs": [],
   "source": [
    "import pandas as pd\n",
    "import numpy as np\n",
    "import matplotlib.pyplot as plt\n",
    "import seaborn as sns\n",
    "\n",
    "# Import module to view available datasets\n",
    "import ISLP.data\n",
    "\n",
    "# Import the main ISLP package\n",
    "from ISLP import load_data\n",
    "\n",
    "import statsmodels.formula.api as sm\n",
    "\n"
   ]
  },
  {
   "cell_type": "markdown",
   "id": "645bb322",
   "metadata": {},
   "source": [
    "<h4>1 A) Using the rnorm() function, create a vector, “x”, containing 100 observations drawn from a N(0,1) distribution. This represents a feature, X.</h4>"
   ]
  },
  {
   "cell_type": "code",
   "execution_count": 3,
   "id": "fee823c7",
   "metadata": {},
   "outputs": [
    {
     "name": "stdout",
     "output_type": "stream",
     "text": [
      "[ 1.62434536 -0.61175641 -0.52817175 -1.07296862  0.86540763 -2.3015387\n",
      "  1.74481176 -0.7612069   0.3190391  -0.24937038  1.46210794 -2.06014071\n",
      " -0.3224172  -0.38405435  1.13376944 -1.09989127 -0.17242821 -0.87785842\n",
      "  0.04221375  0.58281521 -1.10061918  1.14472371  0.90159072  0.50249434\n",
      "  0.90085595 -0.68372786 -0.12289023 -0.93576943 -0.26788808  0.53035547\n",
      " -0.69166075 -0.39675353 -0.6871727  -0.84520564 -0.67124613 -0.0126646\n",
      " -1.11731035  0.2344157   1.65980218  0.74204416 -0.19183555 -0.88762896\n",
      " -0.74715829  1.6924546   0.05080775 -0.63699565  0.19091548  2.10025514\n",
      "  0.12015895  0.61720311  0.30017032 -0.35224985 -1.1425182  -0.34934272\n",
      " -0.20889423  0.58662319  0.83898341  0.93110208  0.28558733  0.88514116\n",
      " -0.75439794  1.25286816  0.51292982 -0.29809284  0.48851815 -0.07557171\n",
      "  1.13162939  1.51981682  2.18557541 -1.39649634 -1.44411381 -0.50446586\n",
      "  0.16003707  0.87616892  0.31563495 -2.02220122 -0.30620401  0.82797464\n",
      "  0.23009474  0.76201118 -0.22232814 -0.20075807  0.18656139  0.41005165\n",
      "  0.19829972  0.11900865 -0.67066229  0.37756379  0.12182127  1.12948391\n",
      "  1.19891788  0.18515642 -0.37528495 -0.63873041  0.42349435  0.07734007\n",
      " -0.34385368  0.04359686 -0.62000084  0.69803203]\n"
     ]
    }
   ],
   "source": [
    "np.random.seed(1)\n",
    "x = np.random.normal(0, 1, 100)\n",
    "print(x)"
   ]
  },
  {
   "cell_type": "markdown",
   "id": "0f8ece70",
   "metadata": {},
   "source": [
    "<h4>B.\tUsing the rnorm() function, create a vector, “eps”, containing 100 observations drawn from a N(0,0.25) distribution.</h4>"
   ]
  },
  {
   "cell_type": "code",
   "execution_count": 4,
   "id": "fbda961c",
   "metadata": {},
   "outputs": [
    {
     "name": "stdout",
     "output_type": "stream",
     "text": [
      "[-0.11178214  0.30612693  0.10087291  0.14839463 -0.27372796  0.04234561\n",
      "  0.18513911 -0.23842515 -0.06655463  0.00815364 -0.34327933  0.07878985\n",
      "  0.21154016 -0.21487899  0.08763649 -0.32807085 -0.00967388 -0.40394309\n",
      "  0.28035443  0.10222513 -0.00615424 -0.1937904   0.31843898  0.49177544\n",
      " -0.46449547  0.30904101  0.40691269  0.08450292 -0.29981701  0.21583633\n",
      " -0.04523008 -0.15098016 -0.30751453  0.13763437  0.19820172 -0.15588268\n",
      "  0.13014408 -0.28608535  0.20046526  0.01164182 -0.04664244 -0.02543647\n",
      "  0.21722154  0.18760291  0.13236633  0.0344253   0.01945528  0.15459507\n",
      "  0.05812364  0.17063785 -0.07752919 -0.60870944  0.25970615  0.54674491\n",
      "  0.11034111 -0.02503881 -0.03411119 -0.02976355  0.00435235 -0.28050468\n",
      " -0.12927361 -0.24925671  0.06219979 -0.07416029  0.12380283 -0.04367579\n",
      "  0.2465838   0.05338348  0.54767493 -0.47409023 -0.16172917  0.22537172\n",
      "  0.63208143 -0.06215869  0.01091725 -0.05657856  0.33286428 -0.07182697\n",
      "  0.17001746 -0.0799504  -0.31813969  0.07838693  0.1257962   0.32330647\n",
      " -0.02761176 -0.15434052  0.14069027  0.06018427  0.07016627 -0.01827818\n",
      "  0.29008464  0.09237318  0.47616468  0.27776417  0.16476245 -0.40685959\n",
      "  0.15057982  0.10507055  0.20273792  0.26111052]\n"
     ]
    }
   ],
   "source": [
    "eps = np.random.normal(0, 0.25, 100)\n",
    "print(eps)"
   ]
  },
  {
   "cell_type": "markdown",
   "id": "aea8f817",
   "metadata": {},
   "source": [
    "<h4>C.\tUsing “x” and “eps”, generate a vector “y” according to the model\n",
    "Y=−1+0.5X+ε.\n",
    "What is the length of the vector “y” ? What are the values of β0 and β1 in this linear model ?\n",
    "</h4>"
   ]
  },
  {
   "cell_type": "code",
   "execution_count": 5,
   "id": "e1e01caa",
   "metadata": {},
   "outputs": [
    {
     "name": "stdout",
     "output_type": "stream",
     "text": [
      "Y length: 100\n",
      "β0 = -1 β1 = 0.5\n"
     ]
    }
   ],
   "source": [
    "y = -1 + 0.5 * x + eps\n",
    "\n",
    "print(\"Y length:\", len(y))\n",
    "print(\"β0 =\", -1, \"β1 =\", 0.5)"
   ]
  },
  {
   "cell_type": "markdown",
   "id": "47f00b7d",
   "metadata": {},
   "source": [
    "<h4>D.\tCreate a scatterplot displaying the relationship between “x” and “y”. Comment on what you observe</h4>"
   ]
  },
  {
   "cell_type": "code",
   "execution_count": null,
   "id": "bfb29fec",
   "metadata": {},
   "outputs": [
    {
     "data": {
      "image/png": "[encoded data removed]",
      "text/plain": [
       "<Figure size 640x480 with 1 Axes>"
      ]
     },
     "metadata": {},
     "output_type": "display_data"
    }
   ],
   "source": [
    "plt.scatter(x, y, color=\"blue\", label=\"Data Points\")\n",
    "plt.xlabel(\"x\")\n",
    "plt.ylabel(\"y\")\n",
    "plt.title(\"X vs Y\")\n",
    "plt.show()"
   ]
  },
  {
   "cell_type": "markdown",
   "id": "c353fe50",
   "metadata": {},
   "source": [
    "<h3>Observation</h3>\n",
    "<ul>\n",
    "<li>The Scatterplot shows the relationship between x and y.</li>\n",
    "<li>Whic indicates poisitive relationship between X and Y.</li>\n",
    "</ul>"
   ]
  },
  {
   "cell_type": "markdown",
   "id": "3b49e466",
   "metadata": {},
   "source": [
    "<h4>E.\tFit a least squares linear model to predict “y” using “x”. Comment on the model obtained. How do β^0 and β^1 compare to β0 and β1 ?</h4>"
   ]
  },
  {
   "cell_type": "code",
   "execution_count": null,
   "id": "117a4eaf",
   "metadata": {},
   "outputs": [
    {
     "name": "stdout",
     "output_type": "stream",
     "text": [
      "                            OLS Regression Results                            \n",
      "==============================================================================\n",
      "Dep. Variable:                      y   R-squared:                       0.800\n",
      "Model:                            OLS   Adj. R-squared:                  0.798\n",
      "Method:                 Least Squares   F-statistic:                     391.4\n",
      "Date:                Tue, 12 Aug 2025   Prob (F-statistic):           5.39e-36\n",
      "Time:                        18:24:17   Log-Likelihood:                 4.1908\n",
      "No. Observations:                 100   AIC:                            -4.382\n",
      "Df Residuals:                      98   BIC:                            0.8288\n",
      "Df Model:                           1                                         \n",
      "Covariance Type:            nonrobust                                         \n",
      "==============================================================================\n",
      "                 coef    std err          t      P>|t|      [0.025      0.975]\n",
      "------------------------------------------------------------------------------\n",
      "Intercept     -0.9632      0.023    -40.999      0.000      -1.010      -0.917\n",
      "x              0.5239      0.026     19.783      0.000       0.471       0.576\n",
      "==============================================================================\n",
      "Omnibus:                        0.898   Durbin-Watson:                   2.157\n",
      "Prob(Omnibus):                  0.638   Jarque-Bera (JB):                0.561\n",
      "Skew:                          -0.172   Prob(JB):                        0.755\n",
      "Kurtosis:                       3.127   Cond. No.                         1.15\n",
      "==============================================================================\n",
      "\n",
      "Notes:\n",
      "[1] Standard Errors assume that the covariance matrix of the errors is correctly specified.\n"
     ]
    }
   ],
   "source": [
    "df = pd.DataFrame({'x': x, 'y': y})\n",
    "model = sm.ols('y ~ x', data=df).fit()\n",
    "print(model.summary())\n"
   ]
  },
  {
   "cell_type": "markdown",
   "id": "1d8113aa",
   "metadata": {},
   "source": [
    "<h3>Observation</h3>\n",
    "The estimated coefficients are very close to the true population parameters, showing that the least squares method has successfully recovered the underlying relationship from the simulated data, with minor variation caused by the random error term."
   ]
  },
  {
   "cell_type": "markdown",
   "id": "9511750e",
   "metadata": {},
   "source": [
    "<h4>F.\tDisplay the least squares line on the scatterplot obtained in (d). Draw the population regression line on the plot, in a different color. Use the legend() function to create an appropriate legend."
   ]
  },
  {
   "cell_type": "code",
   "execution_count": 15,
   "id": "a374c200",
   "metadata": {},
   "outputs": [
    {
     "data": {
      "image/png": "[encoded data removed]",
      "text/plain": [
       "<Figure size 640x480 with 1 Axes>"
      ]
     },
     "metadata": {},
     "output_type": "display_data"
    }
   ],
   "source": [
    "plt.scatter(x, y, color=\"lightblue\", label=\"Data Points\")\n",
    "plt.plot(df['x'], model.predict(df), color=\"red\", label=\"Least Squares Line\")\n",
    "plt.plot(df['x'], -1 + 0.5 * df['x'], color=\"green\", linestyle=\"--\", label=\"Population Line\")\n",
    "plt.xlabel(\"x\")\n",
    "plt.ylabel(\"y\")\n",
    "plt.legend()\n",
    "plt.title(\"Least Squares vs Population Regression Line\")\n",
    "plt.show()"
   ]
  },
  {
   "cell_type": "markdown",
   "id": "4d41c603",
   "metadata": {},
   "source": [
    "<h2>Question-2"
   ]
  },
  {
   "cell_type": "markdown",
   "id": "fec1e625",
   "metadata": {},
   "source": [
    "2.  This problem involves the “Boston” data set, which we saw in the lab for this chapter. We will now try to predict per capita crime rate using the other variables in this data set. In other words, per capita crime rate is the response, and the other variables are the predictors. <br><br>\n",
    "\n"
   ]
  },
  {
   "cell_type": "code",
   "execution_count": null,
   "id": "8bdd31dd",
   "metadata": {},
   "outputs": [
    {
     "name": "stdout",
     "output_type": "stream",
     "text": [
      "        crim    zn  indus  chas    nox     rm   age     dis  rad  tax  \\\n",
      "0    0.00632  18.0   2.31     0  0.538  6.575  65.2  4.0900    1  296   \n",
      "1    0.02731   0.0   7.07     0  0.469  6.421  78.9  4.9671    2  242   \n",
      "2    0.02729   0.0   7.07     0  0.469  7.185  61.1  4.9671    2  242   \n",
      "3    0.03237   0.0   2.18     0  0.458  6.998  45.8  6.0622    3  222   \n",
      "4    0.06905   0.0   2.18     0  0.458  7.147  54.2  6.0622    3  222   \n",
      "..       ...   ...    ...   ...    ...    ...   ...     ...  ...  ...   \n",
      "501  0.06263   0.0  11.93     0  0.573  6.593  69.1  2.4786    1  273   \n",
      "502  0.04527   0.0  11.93     0  0.573  6.120  76.7  2.2875    1  273   \n",
      "503  0.06076   0.0  11.93     0  0.573  6.976  91.0  2.1675    1  273   \n",
      "504  0.10959   0.0  11.93     0  0.573  6.794  89.3  2.3889    1  273   \n",
      "505  0.04741   0.0  11.93     0  0.573  6.030  80.8  2.5050    1  273   \n",
      "\n",
      "     ptratio  lstat  medv  \n",
      "0       15.3   4.98  24.0  \n",
      "1       17.8   9.14  21.6  \n",
      "2       17.8   4.03  34.7  \n",
      "3       18.7   2.94  33.4  \n",
      "4       18.7   5.33  36.2  \n",
      "..       ...    ...   ...  \n",
      "501     21.0   9.67  22.4  \n",
      "502     21.0   9.08  20.6  \n",
      "503     21.0   5.64  23.9  \n",
      "504     21.0   6.48  22.0  \n",
      "505     21.0   7.88  11.9  \n",
      "\n",
      "[506 rows x 13 columns]\n"
     ]
    }
   ],
   "source": [
    "\n",
    "# Load Boston dataset\n",
    "Boston = load_data('Boston')\n",
    "print(Boston)"
   ]
  },
  {
   "cell_type": "code",
   "execution_count": 18,
   "id": "6d1f3826",
   "metadata": {},
   "outputs": [],
   "source": [
    "# Response variable: crime rate (crim)\n",
    "# Predictors: all other columns\n",
    "y = Boston['crim']\n",
    "X_all = Boston.drop(columns=['crim'])\n"
   ]
  },
  {
   "cell_type": "markdown",
   "id": "1763ed45",
   "metadata": {},
   "source": [
    "a.\tFor each predictor, fit a simple linear regression model to predict the response. Describe your results. In which of the models is there a statistically significant association between the predictor and the response ? Create some plots to back up your assertions."
   ]
  },
  {
   "cell_type": "code",
   "execution_count": 25,
   "id": "b2a74001",
   "metadata": {},
   "outputs": [
    {
     "name": "stderr",
     "output_type": "stream",
     "text": [
      "C:\\Users\\Dhinesh\\AppData\\Local\\Temp\\ipykernel_9844\\2185941768.py:7: FutureWarning: Series.__getitem__ treating keys as positions is deprecated. In a future version, integer keys will always be treated as labels (consistent with DataFrame behavior). To access a value by position, use `ser.iloc[pos]`\n",
      "  p_value = model.pvalues[1]  # p-value for predictor\n",
      "C:\\Users\\Dhinesh\\AppData\\Local\\Temp\\ipykernel_9844\\2185941768.py:7: FutureWarning: Series.__getitem__ treating keys as positions is deprecated. In a future version, integer keys will always be treated as labels (consistent with DataFrame behavior). To access a value by position, use `ser.iloc[pos]`\n",
      "  p_value = model.pvalues[1]  # p-value for predictor\n",
      "C:\\Users\\Dhinesh\\AppData\\Local\\Temp\\ipykernel_9844\\2185941768.py:7: FutureWarning: Series.__getitem__ treating keys as positions is deprecated. In a future version, integer keys will always be treated as labels (consistent with DataFrame behavior). To access a value by position, use `ser.iloc[pos]`\n",
      "  p_value = model.pvalues[1]  # p-value for predictor\n",
      "C:\\Users\\Dhinesh\\AppData\\Local\\Temp\\ipykernel_9844\\2185941768.py:7: FutureWarning: Series.__getitem__ treating keys as positions is deprecated. In a future version, integer keys will always be treated as labels (consistent with DataFrame behavior). To access a value by position, use `ser.iloc[pos]`\n",
      "  p_value = model.pvalues[1]  # p-value for predictor\n",
      "C:\\Users\\Dhinesh\\AppData\\Local\\Temp\\ipykernel_9844\\2185941768.py:7: FutureWarning: Series.__getitem__ treating keys as positions is deprecated. In a future version, integer keys will always be treated as labels (consistent with DataFrame behavior). To access a value by position, use `ser.iloc[pos]`\n",
      "  p_value = model.pvalues[1]  # p-value for predictor\n",
      "C:\\Users\\Dhinesh\\AppData\\Local\\Temp\\ipykernel_9844\\2185941768.py:7: FutureWarning: Series.__getitem__ treating keys as positions is deprecated. In a future version, integer keys will always be treated as labels (consistent with DataFrame behavior). To access a value by position, use `ser.iloc[pos]`\n",
      "  p_value = model.pvalues[1]  # p-value for predictor\n",
      "C:\\Users\\Dhinesh\\AppData\\Local\\Temp\\ipykernel_9844\\2185941768.py:7: FutureWarning: Series.__getitem__ treating keys as positions is deprecated. In a future version, integer keys will always be treated as labels (consistent with DataFrame behavior). To access a value by position, use `ser.iloc[pos]`\n",
      "  p_value = model.pvalues[1]  # p-value for predictor\n",
      "C:\\Users\\Dhinesh\\AppData\\Local\\Temp\\ipykernel_9844\\2185941768.py:7: FutureWarning: Series.__getitem__ treating keys as positions is deprecated. In a future version, integer keys will always be treated as labels (consistent with DataFrame behavior). To access a value by position, use `ser.iloc[pos]`\n",
      "  p_value = model.pvalues[1]  # p-value for predictor\n",
      "C:\\Users\\Dhinesh\\AppData\\Local\\Temp\\ipykernel_9844\\2185941768.py:7: FutureWarning: Series.__getitem__ treating keys as positions is deprecated. In a future version, integer keys will always be treated as labels (consistent with DataFrame behavior). To access a value by position, use `ser.iloc[pos]`\n",
      "  p_value = model.pvalues[1]  # p-value for predictor\n",
      "C:\\Users\\Dhinesh\\AppData\\Local\\Temp\\ipykernel_9844\\2185941768.py:7: FutureWarning: Series.__getitem__ treating keys as positions is deprecated. In a future version, integer keys will always be treated as labels (consistent with DataFrame behavior). To access a value by position, use `ser.iloc[pos]`\n",
      "  p_value = model.pvalues[1]  # p-value for predictor\n"
     ]
    },
    {
     "name": "stdout",
     "output_type": "stream",
     "text": [
      "zn: p-value = 0.0000\n",
      "indus: p-value = 0.0000\n",
      "chas: p-value = 0.2094\n",
      "nox: p-value = 0.0000\n",
      "rm: p-value = 0.0000\n",
      "age: p-value = 0.0000\n",
      "dis: p-value = 0.0000\n",
      "rad: p-value = 0.0000\n",
      "tax: p-value = 0.0000\n",
      "ptratio: p-value = 0.0000\n",
      "lstat: p-value = 0.0000\n",
      "medv: p-value = 0.0000\n",
      "\n",
      "Significant predictors (p<0.05): ['zn', 'indus', 'nox', 'rm', 'age', 'dis', 'rad', 'tax', 'ptratio', 'lstat', 'medv']\n"
     ]
    },
    {
     "name": "stderr",
     "output_type": "stream",
     "text": [
      "C:\\Users\\Dhinesh\\AppData\\Local\\Temp\\ipykernel_9844\\2185941768.py:7: FutureWarning: Series.__getitem__ treating keys as positions is deprecated. In a future version, integer keys will always be treated as labels (consistent with DataFrame behavior). To access a value by position, use `ser.iloc[pos]`\n",
      "  p_value = model.pvalues[1]  # p-value for predictor\n",
      "C:\\Users\\Dhinesh\\AppData\\Local\\Temp\\ipykernel_9844\\2185941768.py:7: FutureWarning: Series.__getitem__ treating keys as positions is deprecated. In a future version, integer keys will always be treated as labels (consistent with DataFrame behavior). To access a value by position, use `ser.iloc[pos]`\n",
      "  p_value = model.pvalues[1]  # p-value for predictor\n"
     ]
    }
   ],
   "source": [
    "#  Simple linear regression for each predictor\n",
    "import statsmodels.api as sm\n",
    "significant_predictors = []\n",
    "for col in X_all.columns:\n",
    "    X = sm.add_constant(Boston[col])\n",
    "    model = sm.OLS(y, X).fit()\n",
    "    p_value = model.pvalues[1]  # p-value for predictor\n",
    "    print(f\"{col}: p-value = {p_value:.4f}\")\n",
    "    if p_value < 0.05:\n",
    "        significant_predictors.append(col)\n",
    "        \n",
    "print(\"\\nSignificant predictors (p<0.05):\", significant_predictors)\n"
   ]
  },
  {
   "cell_type": "code",
   "execution_count": null,
   "id": "2047a229",
   "metadata": {},
   "outputs": [
    {
     "data": {
      "image/png": "[encoded data removed]",
      "text/plain": [
       "<Figure size 640x480 with 1 Axes>"
      ]
     },
     "metadata": {},
     "output_type": "display_data"
    }
   ],
   "source": [
    "plt.scatter(Boston['nox'], y)\n",
    "plt.xlabel('NOX')\n",
    "plt.ylabel('Crime Rate')\n",
    "plt.title('NOX vs Crime Rate')\n",
    "plt.show()\n"
   ]
  },
  {
   "cell_type": "markdown",
   "id": "b80408aa",
   "metadata": {},
   "source": [
    "b.\tFit a multiple regression model to predict the response using all of the predictors. Describe your results. For which predictors can we reject the null hypothesis H0:βj=0 ?"
   ]
  },
  {
   "cell_type": "code",
   "execution_count": 29,
   "id": "b99eca43",
   "metadata": {},
   "outputs": [
    {
     "name": "stdout",
     "output_type": "stream",
     "text": [
      "                            OLS Regression Results                            \n",
      "==============================================================================\n",
      "Dep. Variable:                   crim   R-squared:                       0.449\n",
      "Model:                            OLS   Adj. R-squared:                  0.436\n",
      "Method:                 Least Squares   F-statistic:                     33.52\n",
      "Date:                Tue, 12 Aug 2025   Prob (F-statistic):           2.03e-56\n",
      "Time:                        19:02:44   Log-Likelihood:                -1655.4\n",
      "No. Observations:                 506   AIC:                             3337.\n",
      "Df Residuals:                     493   BIC:                             3392.\n",
      "Df Model:                          12                                         \n",
      "Covariance Type:            nonrobust                                         \n",
      "==============================================================================\n",
      "                 coef    std err          t      P>|t|      [0.025      0.975]\n",
      "------------------------------------------------------------------------------\n",
      "const         13.7784      7.082      1.946      0.052      -0.136      27.693\n",
      "zn             0.0457      0.019      2.433      0.015       0.009       0.083\n",
      "indus         -0.0584      0.084     -0.698      0.486      -0.223       0.106\n",
      "chas          -0.8254      1.183     -0.697      0.486      -3.150       1.500\n",
      "nox           -9.9576      5.290     -1.882      0.060     -20.351       0.436\n",
      "rm             0.6289      0.607      1.036      0.301      -0.564       1.822\n",
      "age           -0.0008      0.018     -0.047      0.962      -0.036       0.034\n",
      "dis           -1.0122      0.282     -3.584      0.000      -1.567      -0.457\n",
      "rad            0.6125      0.088      6.997      0.000       0.440       0.784\n",
      "tax           -0.0038      0.005     -0.730      0.466      -0.014       0.006\n",
      "ptratio       -0.3041      0.186     -1.632      0.103      -0.670       0.062\n",
      "lstat          0.1388      0.076      1.833      0.067      -0.010       0.288\n",
      "medv          -0.2201      0.060     -3.678      0.000      -0.338      -0.103\n",
      "==============================================================================\n",
      "Omnibus:                      663.436   Durbin-Watson:                   1.516\n",
      "Prob(Omnibus):                  0.000   Jarque-Bera (JB):            80856.852\n",
      "Skew:                           6.579   Prob(JB):                         0.00\n",
      "Kurtosis:                      63.514   Cond. No.                     1.24e+04\n",
      "==============================================================================\n",
      "\n",
      "Notes:\n",
      "[1] Standard Errors assume that the covariance matrix of the errors is correctly specified.\n",
      "[2] The condition number is large, 1.24e+04. This might indicate that there are\n",
      "strong multicollinearity or other numerical problems.\n",
      "\n",
      "Predictors with significant effect in multiple regression: ['zn', 'dis', 'rad', 'medv']\n"
     ]
    }
   ],
   "source": [
    "#Multiple regression with all predictors\n",
    "X_all_const = sm.add_constant(X_all)\n",
    "multi_model = sm.OLS(y, X_all_const).fit()\n",
    "print(multi_model.summary())\n",
    "\n",
    "# Predictors where we can reject H0: βj = 0\n",
    "reject_null = multi_model.pvalues[multi_model.pvalues < 0.05].index.tolist()\n",
    "if 'const' in reject_null:\n",
    "    reject_null.remove('const')\n",
    "print(\"\\nPredictors with significant effect in multiple regression:\", reject_null)\n"
   ]
  }
 ],
 "metadata": {
  "kernelspec": {
   "display_name": "Python 3",
   "language": "python",
   "name": "python3"
  },
  "language_info": {
   "codemirror_mode": {
    "name": "ipython",
    "version": 3
   },
   "file_extension": ".py",
   "mimetype": "text/x-python",
   "name": "python",
   "nbconvert_exporter": "python",
   "pygments_lexer": "ipython3",
   "version": "3.13.2"
  }
 },
 "nbformat": 4,
 "nbformat_minor": 5
}
